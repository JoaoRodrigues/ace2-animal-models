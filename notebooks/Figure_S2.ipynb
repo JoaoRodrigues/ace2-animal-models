{
 "cells": [
  {
   "cell_type": "code",
   "execution_count": null,
   "metadata": {},
   "outputs": [],
   "source": [
    "import pathlib\n",
    "\n",
    "import matplotlib.pyplot as plt\n",
    "import matplotlib.ticker as ticker\n",
    "import numpy as np\n",
    "from numpy.polynomial.polynomial import Polynomial\n",
    "import pandas as pd\n",
    "import seaborn as sns"
   ]
  },
  {
   "cell_type": "code",
   "execution_count": null,
   "metadata": {},
   "outputs": [],
   "source": [
    "np.random.seed(917)"
   ]
  },
  {
   "cell_type": "code",
   "execution_count": null,
   "metadata": {},
   "outputs": [],
   "source": [
    "def cm2inch(*tupl):\n",
    "    inch = 2.54\n",
    "    if isinstance(tupl[0], tuple):\n",
    "        return tuple(i/inch for i in tupl[0])\n",
    "    else:\n",
    "        return tuple(i/inch for i in tupl)"
   ]
  },
  {
   "cell_type": "code",
   "execution_count": null,
   "metadata": {},
   "outputs": [],
   "source": [
    "# define color pallete (cvd-friendly)\n",
    "blue = '#005AB5'\n",
    "red = '#DC3220'\n",
    "gray = '#D0D0D0'"
   ]
  },
  {
   "cell_type": "code",
   "execution_count": null,
   "metadata": {},
   "outputs": [],
   "source": [
    "# Scientific to Common\n",
    "namedict = {\n",
    "    'Homo sapiens': 'Human',\n",
    "    'Anas platyrhynchos': 'Duck',\n",
    "    'Bos taurus': 'Cow',\n",
    "    'Camelus dromedarius': 'Dromedary',\n",
    "    'Canis lupus familiaris': 'Dog',\n",
    "    'Capra hircus': 'Goat',\n",
    "    'Carassius auratus': 'Goldfish',\n",
    "    'Cavia porcellus': 'Guinea pig',\n",
    "    'Columba livia': 'Pidgeon',\n",
    "    'Crocodylus porosus': 'Crocodile',\n",
    "    'Equus asinus': 'Donkey',\n",
    "    'Equus caballus': 'Horse',\n",
    "    'Erinaceus europaeus': 'Hedgehog',\n",
    "    'Felis catus': 'Cat',\n",
    "    'Gallus gallus': 'Chicken',\n",
    "    'Macaca mulatta': 'Macaque',\n",
    "    'Manis javanica': 'Pangolin',\n",
    "    'Mesocricetus auratus': 'Hamster',\n",
    "    'Mus musculus': 'Mouse',\n",
    "    'Mustela putorius furo': 'Ferret',\n",
    "    'Oryctolagus cuniculus': 'Rabbit',\n",
    "    'Ovis aries': 'Sheep',\n",
    "    'Paguma larvata': 'Civet',\n",
    "    'Pan troglodytes': 'Chimpanzee',\n",
    "    'Panthera tigris altaica': 'Siberian Tiger',\n",
    "    'Pongo abelii': 'Orangutan',\n",
    "    'Rattus norvegicus': 'Rat',\n",
    "    'Rhinolophus sinicus': 'Horseshoe Bat',\n",
    "    'Serinus canaria': 'Canary',\n",
    "    'Sus scrofa': 'Pig'\n",
    "}\n",
    "\n",
    "# Lower case and underscore\n",
    "namedict = {\n",
    "    '_'.join(k.lower().split()): k\n",
    "    for k, v in namedict.items()\n",
    "}"
   ]
  },
  {
   "cell_type": "code",
   "execution_count": null,
   "metadata": {},
   "outputs": [],
   "source": [
    "rootdir = pathlib.Path('.').resolve(strict=True)\n",
    "datadir = rootdir.parent / 'refinement'"
   ]
  },
  {
   "cell_type": "code",
   "execution_count": null,
   "metadata": {},
   "outputs": [],
   "source": [
    "df = pd.read_csv(datadir / 'clusters_top10.stat', delimiter='\\s+', index_col='species')\n",
    "df.index = df.index.map(namedict.get)\n",
    "df.head(2)"
   ]
  },
  {
   "cell_type": "code",
   "execution_count": null,
   "metadata": {},
   "outputs": [],
   "source": [
    "seq_df = pd.read_csv(datadir / 'seq.analysis', index_col='Species')\n",
    "seq_df.drop(index='ACE2_HUMAN_6M17', inplace=True)\n",
    "seq_df.head()"
   ]
  },
  {
   "cell_type": "code",
   "execution_count": null,
   "metadata": {},
   "outputs": [],
   "source": [
    "df['Seq Sim Interface'] = seq_df['Seq Sim Interface']\n",
    "df.head()"
   ]
  },
  {
   "cell_type": "code",
   "execution_count": null,
   "metadata": {},
   "outputs": [],
   "source": [
    "# Masks\n",
    "positive = [\n",
    "    'Homo sapiens',\n",
    "    'Felis catus',\n",
    "    'Manis javanica',\n",
    "    'Mesocricetus auratus',\n",
    "    'Mustela putorius furo',\n",
    "    'Paguma larvata',\n",
    "    'Panthera tigris altaica',\n",
    "    'Rhinolophus sinicus',\n",
    "    'Bos taurus',\n",
    "    'Ovis aries',\n",
    "    'Camelus dromedarius',\n",
    "    'Oryctolagus cuniculus',\n",
    "    'Equus caballus', \n",
    "]\n",
    "positive_df = df.loc[positive, :]\n",
    "\n",
    "negative = [\n",
    "    'Anas platyrhynchos',\n",
    "    'Gallus gallus',\n",
    "    'Mus musculus',\n",
    "    'Cavia porcellus',\n",
    "    'Rattus norvegicus',\n",
    "]\n",
    "negative_df = df.loc[negative, :]"
   ]
  },
  {
   "cell_type": "code",
   "execution_count": null,
   "metadata": {},
   "outputs": [],
   "source": [
    "# Replace species\n",
    "# df.index = map(namedict.get, df.index)\n",
    "# Sort by increasing sequence sim interface\n",
    "df.sort_values(by='haddock-score', inplace=True)"
   ]
  },
  {
   "cell_type": "code",
   "execution_count": null,
   "metadata": {},
   "outputs": [],
   "source": [
    "df.head()"
   ]
  },
  {
   "cell_type": "markdown",
   "metadata": {},
   "source": [
    "## Figure"
   ]
  },
  {
   "cell_type": "code",
   "execution_count": null,
   "metadata": {},
   "outputs": [],
   "source": [
    "fig, ax1 = plt.subplots(\n",
    "    nrows=1, ncols=1,\n",
    "    figsize=cm2inch(10, 6.68),  # w,h\n",
    "    constrained_layout=True,\n",
    "#     dpi=600  # for notebook viewing only\n",
    ")\n",
    "\n",
    "# Move to numpy arrays\n",
    "hs = df['haddock-score'].values\n",
    "\n",
    "pos_hs = positive_df['haddock-score']\n",
    "neg_hs = negative_df['haddock-score']\n",
    "\n",
    "# Overall styles\n",
    "line_kwargs = {\n",
    "    'color': 'black',\n",
    "    'linestyle': '--',\n",
    "    'linewidth': 0.5\n",
    "}\n",
    "\n",
    "lstsq = Polynomial.fit(df['Seq Sim Interface'], hs, 1)\n",
    "x_fit, y_fit = lstsq.linspace()\n",
    "\n",
    "ax1.scatter(df['Seq Sim Interface'], hs, color=gray)\n",
    "ax1.scatter(positive_df['Seq Sim Interface'], pos_hs, color=blue)\n",
    "ax1.scatter(negative_df['Seq Sim Interface'], neg_hs, color=red)\n",
    "ax1.plot(x_fit, y_fit, **line_kwargs)\n",
    "\n",
    "rsq_coeff = np.corrcoef(df['Seq Sim Interface'], hs)[0, 1] ** 2\n",
    "\n",
    "# Style axes\n",
    "ax1.set_ylabel(\n",
    "    'HADDOCK Score (a.u.)',\n",
    "    fontsize=9\n",
    ")\n",
    "\n",
    "ax1.set_xlabel(\n",
    "    'ACE2 Interface Sequence Similarity (%)',\n",
    "    fontsize=9\n",
    ")\n",
    "\n",
    "ax1.xaxis.set_major_locator(ticker.MaxNLocator(5))\n",
    "ax1.yaxis.set_major_locator(ticker.MaxNLocator(5))\n",
    "\n",
    "for label in ax1.get_xticklabels():\n",
    "    label.set_fontsize(8)\n",
    "\n",
    "for label in ax1.get_yticklabels():\n",
    "    label.set_fontsize(8)\n",
    "\n",
    "ax1.set_title(\n",
    "    r'$R^2$ = {0:3.2f}'.format(rsq_coeff),\n",
    "    fontsize=9\n",
    ")"
   ]
  },
  {
   "cell_type": "code",
   "execution_count": null,
   "metadata": {},
   "outputs": [],
   "source": [
    "fig.savefig('Figure_S2.pdf');"
   ]
  }
 ],
 "metadata": {
  "kernelspec": {
   "display_name": "Python 3",
   "language": "python",
   "name": "python3"
  },
  "language_info": {
   "codemirror_mode": {
    "name": "ipython",
    "version": 3
   },
   "file_extension": ".py",
   "mimetype": "text/x-python",
   "name": "python",
   "nbconvert_exporter": "python",
   "pygments_lexer": "ipython3",
   "version": "3.7.6"
  }
 },
 "nbformat": 4,
 "nbformat_minor": 4
}
